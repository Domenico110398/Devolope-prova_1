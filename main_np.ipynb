{
 "cells": [
  {
   "cell_type": "code",
   "execution_count": 1,
   "metadata": {},
   "outputs": [
    {
     "name": "stdout",
     "output_type": "stream",
     "text": [
      "hello word\n",
      "99\n",
      "18\n",
      ">>>>>\n"
     ]
    }
   ],
   "source": [
    "print(\"hello word\")\n",
    "numero = int(input())\n",
    "stringa = input()\n",
    "stringnumero = str(numero) + str(stringa)\n",
    "print(stringnumero)\n",
    "intnumero = int(numero) + int(stringa)\n",
    "print(intnumero)\n",
    "\n",
    "if int(stringnumero) > intnumero:\n",
    "    print(\">\")\n",
    "else:\n",
    "    print(\"<\")\n",
    "\n",
    "print(\"fine\")\n"
   ]
  }
 ],
 "metadata": {
  "kernelspec": {
   "display_name": "Python 3",
   "language": "python",
   "name": "python3"
  },
  "language_info": {
   "codemirror_mode": {
    "name": "ipython",
    "version": 3
   },
   "file_extension": ".py",
   "mimetype": "text/x-python",
   "name": "python",
   "nbconvert_exporter": "python",
   "pygments_lexer": "ipython3",
   "version": "3.12.8"
  }
 },
 "nbformat": 4,
 "nbformat_minor": 2
}
