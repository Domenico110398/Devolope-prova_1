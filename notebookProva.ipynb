{
 "cells": [
  {
   "cell_type": "code",
   "execution_count": 1,
   "metadata": {},
   "outputs": [
    {
     "data": {
      "text/plain": [
       "int"
      ]
     },
     "execution_count": 1,
     "metadata": {},
     "output_type": "execute_result"
    }
   ],
   "source": [
    "a=8\n",
    "type(a)"
   ]
  },
  {
   "cell_type": "code",
   "execution_count": 2,
   "metadata": {},
   "outputs": [
    {
     "data": {
      "text/plain": [
       "str"
      ]
     },
     "execution_count": 2,
     "metadata": {},
     "output_type": "execute_result"
    }
   ],
   "source": [
    "b = \"cos'è?\"\n",
    "type(b)"
   ]
  },
  {
   "cell_type": "code",
   "execution_count": 3,
   "metadata": {},
   "outputs": [
    {
     "data": {
      "text/plain": [
       "float"
      ]
     },
     "execution_count": 3,
     "metadata": {},
     "output_type": "execute_result"
    }
   ],
   "source": [
    "c = 7.7\n",
    "type(c)"
   ]
  },
  {
   "cell_type": "code",
   "execution_count": 4,
   "metadata": {},
   "outputs": [
    {
     "data": {
      "text/plain": [
       "list"
      ]
     },
     "execution_count": 4,
     "metadata": {},
     "output_type": "execute_result"
    }
   ],
   "source": [
    "d = [a, b, c]\n",
    "type(d)"
   ]
  },
  {
   "cell_type": "code",
   "execution_count": 8,
   "metadata": {},
   "outputs": [
    {
     "name": "stdout",
     "output_type": "stream",
     "text": [
      "<class 'int'> 8\n",
      "<class 'str'> cos'è?\n",
      "<class 'float'> 7.7\n"
     ]
    }
   ],
   "source": [
    "print(type(d[0]), d[0])\n",
    "print(type(d[1]), d[1])\n",
    "print(type(d[2]), d[2])"
   ]
  },
  {
   "cell_type": "code",
   "execution_count": 11,
   "metadata": {},
   "outputs": [
    {
     "data": {
      "text/plain": [
       "7.7"
      ]
     },
     "execution_count": 11,
     "metadata": {},
     "output_type": "execute_result"
    }
   ],
   "source": [
    "d[-1]"
   ]
  },
  {
   "cell_type": "code",
   "execution_count": 10,
   "metadata": {},
   "outputs": [
    {
     "name": "stdout",
     "output_type": "stream",
     "text": [
      "'Hello' C:\\Users\\Name\\Documents\n",
      "True True True\n"
     ]
    }
   ],
   "source": [
    "string6 = repr(\"Hello\")\n",
    "string7 = r\"C:\\Users\\Name\\Documents\"\n",
    "a = b = c = True\n",
    "print(string6, string7)\n",
    "print(a, b,c)\n"
   ]
  },
  {
   "cell_type": "code",
   "execution_count": 15,
   "metadata": {},
   "outputs": [
    {
     "name": "stdout",
     "output_type": "stream",
     "text": [
      "Hi, \n",
      "my name is\n",
      "John Doe\n",
      "python\n"
     ]
    }
   ],
   "source": [
    "hello = \"Hi, \\nmy name is\\nJohn Doe\"\n",
    "language = 'python'\n",
    "print(hello,)\n",
    "print(language)"
   ]
  },
  {
   "cell_type": "code",
   "execution_count": 11,
   "metadata": {},
   "outputs": [
    {
     "name": "stdout",
     "output_type": "stream",
     "text": [
      "1 uno 1.1\n"
     ]
    }
   ],
   "source": [
    "a, b, c = 1, \"uno\", 1.1\n",
    "print(a, b, c)"
   ]
  },
  {
   "cell_type": "code",
   "execution_count": 16,
   "metadata": {},
   "outputs": [
    {
     "name": "stdout",
     "output_type": "stream",
     "text": [
      "12 Hello\n",
      "Hello 12\n"
     ]
    }
   ],
   "source": [
    "a = 12\n",
    "b = 'Hello'\n",
    "print(a, b)\n",
    "\n",
    "# Swap the values\n",
    "a, b = b, a\n",
    "\n",
    "print(a, b)"
   ]
  },
  {
   "cell_type": "code",
   "execution_count": 17,
   "metadata": {},
   "outputs": [
    {
     "name": "stdout",
     "output_type": "stream",
     "text": [
      "6\n",
      "8\n",
      "2\n"
     ]
    }
   ],
   "source": [
    "Hello = 'Hello!'\n",
    "name = 'John Doe'\n",
    "age = '40'\n",
    "\n",
    "# Print the length of each variable\n",
    "print(len(Hello))\n",
    "print(len(name))\n",
    "print(len(age))"
   ]
  },
  {
   "cell_type": "code",
   "execution_count": 31,
   "metadata": {},
   "outputs": [
    {
     "name": "stdout",
     "output_type": "stream",
     "text": [
      "on Tom LONG wolk\n",
      "['on', 'Tom', 'LONG', 'wolk']\n"
     ]
    }
   ],
   "source": [
    "stringON = \"ON\"\n",
    "\n",
    "name_tom = \"tom\"\n",
    "\n",
    "lon = \"long\"\n",
    "\n",
    "walk = \"walk\"\n",
    "\n",
    "text = stringON.lower() + \" \" + name_tom.capitalize() + \" \" + lon.upper() + \" \" + walk.replace(\"a\", \"o\")\n",
    "\n",
    "print(text)\n",
    "\n",
    "words = text.split()\n",
    "\n",
    "# Print the result\n",
    "print(words)\n"
   ]
  },
  {
   "cell_type": "code",
   "execution_count": 50,
   "metadata": {},
   "outputs": [
    {
     "name": "stdout",
     "output_type": "stream",
     "text": [
      "Hi, I'm Dmenico, I'm 26 years hold, I live in Monopoli\n",
      "Hi, I'm Champion Dmenico, I'm 26 years hold, I live in Monopoli\n",
      "Hi, I'm Champion Dmenico, I'm 26 years hold, I live in Monopoli, I'm 1.48m tall, hero False\n",
      "<class 'str'> <class 'int'> <class 'str'> <class 'float'> <class 'bool'>\n"
     ]
    }
   ],
   "source": [
    "name = \"Dmenico\"\n",
    "age = 26\n",
    "city = \"Monopoli\"\n",
    "\n",
    "presentation = (\"Hi, I'm \" + name + \", I'm \" + str(age) + \" years hold, \" +\n",
    "\"I live in \" + city)\n",
    "\n",
    "print(presentation)\n",
    "\n",
    "name = \"Champion \" + name\n",
    "\n",
    "presentation = (\"Hi, I'm \" + name + \", I'm \" + str(age) + \" years hold, \" +\n",
    "\"I live in \" + city)\n",
    "\n",
    "print(presentation)\n",
    "\n",
    "height = 1.48\n",
    "\n",
    "is_hero = False\n",
    "\n",
    "presentation = (\"Hi, I'm \" + name + \", I'm \" + str(age) + \" years hold, I live in \" + city + \", I'm \" + str(height) + \"m tall, hero \" + str(is_hero))\n",
    "\n",
    "print(presentation)\n",
    "print(type(name), type(age), type(city), type(height), type(is_hero))"
   ]
  },
  {
   "cell_type": "code",
   "execution_count": 56,
   "metadata": {},
   "outputs": [
    {
     "name": "stdout",
     "output_type": "stream",
     "text": [
      "What's your name?\n",
      "What's your surname?\n",
      "year of birth?\n",
      "Please enter a valid year of birth.\n",
      "year of birth?\n",
      "Where do you live?\n",
      "What is your favorite language?\n",
      "Write your biografy!\n",
      "io tu is 27 years old, lives in monopoli and loves c#.\n",
      "iewornfoergfrtntrg whith 18 characters.\n"
     ]
    }
   ],
   "source": [
    "year_current = 2025\n",
    "\n",
    "while True:\n",
    "    \n",
    "    print(\"What's your name?\")\n",
    "\n",
    "    firstname = input().lower()\n",
    "\n",
    "    print(\"What's your surname?\")\n",
    "    surname = input().lower()\n",
    "\n",
    "    name = firstname + \" \" + surname\n",
    "\n",
    "    while True:\n",
    "        print(\"year of birth?\")\n",
    "        year = input().lower()\n",
    "        if year.isnumeric():\n",
    "            age = year_current - int(year)\n",
    "            break\n",
    "        else:\n",
    "            print(\"Please enter a valid year of birth.\")\n",
    "\n",
    "    print(\"Where do you live?\")\n",
    "    city = input().lower()\n",
    "\n",
    "    # Calculate the total length\n",
    "    length = len(name) + len(str(age)) + len(city)\n",
    "    \n",
    "    # Check if the length is less than 40\n",
    "    if length < 40:\n",
    "        break\n",
    "    else:\n",
    "        print(\"The total length of your input exceeds 50 characters. Please try again.\")\n",
    "\n",
    "# Final part\n",
    "print(\"What is your favorite language?\")\n",
    "fav_language = input().lower()\n",
    "\n",
    "print(\"Write your biografy!\")\n",
    "biography = input()\n",
    "print(f\"{name} is {age} years old, lives in {city} and loves {fav_language}.\")\n",
    "print(f\"{biography} whith {len(biography)} characters.\")\n",
    "\n"
   ]
  }
 ],
 "metadata": {
  "kernelspec": {
   "display_name": "Python 3",
   "language": "python",
   "name": "python3"
  },
  "language_info": {
   "codemirror_mode": {
    "name": "ipython",
    "version": 3
   },
   "file_extension": ".py",
   "mimetype": "text/x-python",
   "name": "python",
   "nbconvert_exporter": "python",
   "pygments_lexer": "ipython3",
   "version": "3.12.8"
  }
 },
 "nbformat": 4,
 "nbformat_minor": 2
}
