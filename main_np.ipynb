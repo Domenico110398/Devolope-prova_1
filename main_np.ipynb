{
 "cells": [
  {
   "cell_type": "code",
   "execution_count": 1,
   "metadata": {},
   "outputs": [
    {
     "name": "stdout",
     "output_type": "stream",
     "text": [
      "hello word\n",
      "11\n",
      "2\n",
      ">\n",
      "fine\n"
     ]
    }
   ],
   "source": [
    "print(\"hello word\")\n",
    "numero = int(input())\n",
    "stringa = input()\n",
    "stringnumero = str(numero) + str(stringa)\n",
    "print(stringnumero)\n",
    "intnumero = int(numero) + int(stringa)\n",
    "print(intnumero)\n",
    "\n",
    "if int(stringnumero) > intnumero:\n",
    "    print(\">\")\n",
    "else:\n",
    "    print(\"<\")\n",
    "\n",
    "print(\"fine\")\n"
   ]
  },
  {
   "cell_type": "code",
   "execution_count": 3,
   "metadata": {},
   "outputs": [
    {
     "name": "stdout",
     "output_type": "stream",
     "text": [
      "hi, I'm chat, your username?\n",
      "please enter a valid username\n",
      "please enter a valid username\n",
      "Hello, o, you are welcome, how can I help you? b\n",
      "happy\n",
      "sad\n"
     ]
    }
   ],
   "source": [
    "print(\"hi, I'm chat, your username? no numbers please\")\n",
    "while True:\n",
    "    username = input()\n",
    "    if username.isalpha():\n",
    "        break\n",
    "    else:\n",
    "        print(\"please enter a valid username whitout numbers\")\n",
    "\n",
    "print(f\"Hello, {str(username[0])}, you are welcome, how can I help you? {str(username[-1])}\")\n",
    "response = input().split()\n",
    "\n",
    "for i in response:\n",
    "    if \"sad\" in i:\n",
    "        print(i.replace(\"sad\", \"happy\"))\n",
    "    else:\n",
    "        print(i)"
   ]
  },
  {
   "cell_type": "code",
   "execution_count": 9,
   "metadata": {},
   "outputs": [
    {
     "name": "stdout",
     "output_type": "stream",
     "text": [
      "Enter your Name\n",
      "Lenght name = 69\n",
      "please enter a short name\n",
      "ewwg\n",
      "g\n",
      "Welcome, ewg, your username is ewwg and your code is g\n"
     ]
    }
   ],
   "source": [
    "print(\"Enter your Name\")\n",
    "while True:\n",
    "    name = input()\n",
    "    if len(name) < 15:\n",
    "        break\n",
    "    else:\n",
    "        print(f\"Lenght name = {len(name)}\")\n",
    "        print(\"please enter a short name\")\n",
    "\n",
    "username = name[0:2] + name[-2:]\n",
    "print(username)\n",
    "\n",
    "code = name[int(len(name)/2)-2:int(len(name)/2)+2]\n",
    "print(code)\n",
    "\n",
    "print(f\"Welcome, {name}, your username is {username} and your code is {code}\")"
   ]
  },
  {
   "cell_type": "code",
   "execution_count": 11,
   "metadata": {},
   "outputs": [
    {
     "name": "stdout",
     "output_type": "stream",
     "text": [
      "The sky is blue.\n",
      "Today's highlighted word is: SKY\n"
     ]
    }
   ],
   "source": [
    "string = 'The sky is blue.'\n",
    "print(string)\n",
    "slice = string[4:7].upper()\n",
    "print(f\"Today's highlighted word is: {slice}\")"
   ]
  },
  {
   "cell_type": "code",
   "execution_count": 14,
   "metadata": {},
   "outputs": [
    {
     "name": "stdout",
     "output_type": "stream",
     "text": [
      "True\n"
     ]
    }
   ],
   "source": [
    "\n",
    "first_name = \"Mario\"\n",
    "last_name = \"Johnson\"\n",
    "print(not (first_name == \"Mario\" and last_name == \"Smith\")) # Should print True"
   ]
  }
 ],
 "metadata": {
  "kernelspec": {
   "display_name": "Python 3",
   "language": "python",
   "name": "python3"
  },
  "language_info": {
   "codemirror_mode": {
    "name": "ipython",
    "version": 3
   },
   "file_extension": ".py",
   "mimetype": "text/x-python",
   "name": "python",
   "nbconvert_exporter": "python",
   "pygments_lexer": "ipython3",
   "version": "3.12.8"
  }
 },
 "nbformat": 4,
 "nbformat_minor": 2
}
